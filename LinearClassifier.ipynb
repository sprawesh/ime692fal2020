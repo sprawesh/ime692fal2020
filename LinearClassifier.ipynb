{
 "cells": [
  {
   "cell_type": "code",
   "execution_count": 1,
   "metadata": {},
   "outputs": [],
   "source": [
    "import numpy as np\n",
    "from matplotlib import pyplot as plt\n",
    "from sklearn.metrics import accuracy_score\n",
    "import pandas as pd"
   ]
  },
  {
   "cell_type": "code",
   "execution_count": 2,
   "metadata": {},
   "outputs": [],
   "source": [
    "np.warnings.filterwarnings('ignore')"
   ]
  },
  {
   "cell_type": "code",
   "execution_count": 3,
   "metadata": {},
   "outputs": [],
   "source": [
    "plt.rcParams['font.family'] = 'Arial'\n",
    "plt.rcParams['axes.linewidth'] = 0.5\n",
    "BLUE, ORANGE, GRAY1, GRAY4 = '#57B5E8', '#E69E00', '#231F20', '#646369'"
   ]
  },
  {
   "cell_type": "code",
   "execution_count": 4,
   "metadata": {},
   "outputs": [],
   "source": [
    "path_train = 'F:/fall-21/ime692/l9/vowel.train.txt'\n",
    "df_train = pd.read_csv(path_train)\n",
    "#df_train.head() - to ensure that the data is read correctly\n",
    "path_test = 'F:/fall-21/ime692/l9/vowel.test.txt'\n",
    "df_test = pd.read_csv(path_test)"
   ]
  },
  {
   "cell_type": "code",
   "execution_count": 5,
   "metadata": {},
   "outputs": [],
   "source": [
    "features = [f'x.{i+1}' for i in range(10)]\n",
    "# we could have also used df_train.columns.values"
   ]
  },
  {
   "cell_type": "code",
   "execution_count": 6,
   "metadata": {},
   "outputs": [],
   "source": [
    "x_train, y_train = df_train[features].values, df_train.y.values\n",
    "x_test, y_test = df_test[features].values, df_test.y.values"
   ]
  },
  {
   "cell_type": "code",
   "execution_count": 7,
   "metadata": {},
   "outputs": [
    {
     "data": {
      "text/plain": [
       "0.23"
      ]
     },
     "execution_count": 7,
     "metadata": {},
     "output_type": "execute_result"
    }
   ],
   "source": [
    "#results for logistic regression\n",
    "from sklearn.linear_model import LogisticRegression\n",
    "lr = LogisticRegression(C=20)\n",
    "#C is inverse of regularization, larger value => smaller regularization\n",
    "lr.fit(x_train, y_train)\n",
    "lr_train_err = 1-accuracy_score(y_train, lr.predict(x_train))\n",
    "np.round(lr_train_err, decimals=2)"
   ]
  },
  {
   "cell_type": "code",
   "execution_count": 8,
   "metadata": {},
   "outputs": [
    {
     "data": {
      "text/plain": [
       "0.52"
      ]
     },
     "execution_count": 8,
     "metadata": {},
     "output_type": "execute_result"
    }
   ],
   "source": [
    "#evaluation on the test data\n",
    "lr_test_err = 1-accuracy_score(y_test, lr.predict(x_test))\n",
    "np.round(lr_test_err, decimals=2)"
   ]
  },
  {
   "cell_type": "code",
   "execution_count": 9,
   "metadata": {},
   "outputs": [
    {
     "data": {
      "text/plain": [
       "0.32"
      ]
     },
     "execution_count": 9,
     "metadata": {},
     "output_type": "execute_result"
    }
   ],
   "source": [
    "#results for linear discriminant analysis\n",
    "from sklearn.discriminant_analysis import LinearDiscriminantAnalysis\n",
    "ld = LinearDiscriminantAnalysis()\n",
    "ld.fit(x_train, y_train)\n",
    "ld_train_err = 1-accuracy_score(y_train, ld.predict(x_train))\n",
    "ld_test_err = 1-accuracy_score(y_test, ld.predict(x_test))\n",
    "np.round(ld_train_err, decimals=2) #train error for ld"
   ]
  },
  {
   "cell_type": "code",
   "execution_count": 10,
   "metadata": {},
   "outputs": [
    {
     "data": {
      "text/plain": [
       "0.56"
      ]
     },
     "execution_count": 10,
     "metadata": {},
     "output_type": "execute_result"
    }
   ],
   "source": [
    "np.round(ld_test_err, decimals=2) #test error for ld"
   ]
  },
  {
   "cell_type": "code",
   "execution_count": 11,
   "metadata": {},
   "outputs": [
    {
     "data": {
      "text/plain": [
       "0.01"
      ]
     },
     "execution_count": 11,
     "metadata": {},
     "output_type": "execute_result"
    }
   ],
   "source": [
    "#results for quadratic discriminant analysis\n",
    "from sklearn.discriminant_analysis import QuadraticDiscriminantAnalysis\n",
    "qd = QuadraticDiscriminantAnalysis()\n",
    "qd.fit(x_train, y_train)\n",
    "qd_train_err = 1-accuracy_score(y_train, qd.predict(x_train))\n",
    "qd_test_err = 1-accuracy_score(y_test, qd.predict(x_test))\n",
    "np.round(qd_train_err, decimals=2) #train error for qd"
   ]
  },
  {
   "cell_type": "code",
   "execution_count": 12,
   "metadata": {},
   "outputs": [
    {
     "data": {
      "text/plain": [
       "0.53"
      ]
     },
     "execution_count": 12,
     "metadata": {},
     "output_type": "execute_result"
    }
   ],
   "source": [
    "np.round(qd_test_err, decimals=2) #train error for qd"
   ]
  },
  {
   "cell_type": "code",
   "execution_count": null,
   "metadata": {},
   "outputs": [],
   "source": []
  }
 ],
 "metadata": {
  "kernelspec": {
   "display_name": "Python 3",
   "language": "python",
   "name": "python3"
  },
  "language_info": {
   "codemirror_mode": {
    "name": "ipython",
    "version": 3
   },
   "file_extension": ".py",
   "mimetype": "text/x-python",
   "name": "python",
   "nbconvert_exporter": "python",
   "pygments_lexer": "ipython3",
   "version": "3.8.3"
  }
 },
 "nbformat": 4,
 "nbformat_minor": 4
}
