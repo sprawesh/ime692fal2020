{
 "cells": [
  {
   "cell_type": "code",
   "execution_count": 1,
   "metadata": {},
   "outputs": [
    {
     "data": {
      "text/plain": [
       "array(['lcavol', 'lweight', 'age', 'lbph', 'svi', 'lcp', 'gleason',\n",
       "       'pgg45'], dtype=object)"
      ]
     },
     "execution_count": 1,
     "metadata": {},
     "output_type": "execute_result"
    }
   ],
   "source": [
    "import pandas as pd\n",
    "#online link to prostate data: https://web.stanford.edu/~hastie/ElemStatLearn/\n",
    "path = 'F:/fall-21/ime692/l7/prostate.csv'\n",
    "df_features = pd.read_csv(path)\n",
    "names = df_features.columns.values\n",
    "cols_to_norm = names[1: len(names)-2]\n",
    "cols_to_norm"
   ]
  },
  {
   "cell_type": "code",
   "execution_count": 2,
   "metadata": {},
   "outputs": [],
   "source": [
    "from sklearn.preprocessing import StandardScaler\n",
    "scaler = StandardScaler()\n",
    "df_features[cols_to_norm] = scaler.fit_transform(df_features[cols_to_norm]) #normalize selected variables\n",
    "#dataS = df_features.iloc[:,1:10]"
   ]
  },
  {
   "cell_type": "code",
   "execution_count": 3,
   "metadata": {},
   "outputs": [
    {
     "data": {
      "text/html": [
       "<div>\n",
       "<style scoped>\n",
       "    .dataframe tbody tr th:only-of-type {\n",
       "        vertical-align: middle;\n",
       "    }\n",
       "\n",
       "    .dataframe tbody tr th {\n",
       "        vertical-align: top;\n",
       "    }\n",
       "\n",
       "    .dataframe thead th {\n",
       "        text-align: right;\n",
       "    }\n",
       "</style>\n",
       "<table border=\"1\" class=\"dataframe\">\n",
       "  <thead>\n",
       "    <tr style=\"text-align: right;\">\n",
       "      <th></th>\n",
       "      <th>Unnamed: 0</th>\n",
       "      <th>lcavol</th>\n",
       "      <th>lweight</th>\n",
       "      <th>age</th>\n",
       "      <th>lbph</th>\n",
       "      <th>svi</th>\n",
       "      <th>lcp</th>\n",
       "      <th>gleason</th>\n",
       "      <th>pgg45</th>\n",
       "      <th>lpsa</th>\n",
       "      <th>train</th>\n",
       "    </tr>\n",
       "  </thead>\n",
       "  <tbody>\n",
       "    <tr>\n",
       "      <th>0</th>\n",
       "      <td>1</td>\n",
       "      <td>-1.645861</td>\n",
       "      <td>-2.016634</td>\n",
       "      <td>-1.872101</td>\n",
       "      <td>-1.030029</td>\n",
       "      <td>-0.525657</td>\n",
       "      <td>-0.867655</td>\n",
       "      <td>-1.047571</td>\n",
       "      <td>-0.868957</td>\n",
       "      <td>-0.430783</td>\n",
       "      <td>T</td>\n",
       "    </tr>\n",
       "    <tr>\n",
       "      <th>1</th>\n",
       "      <td>2</td>\n",
       "      <td>-1.999313</td>\n",
       "      <td>-0.725759</td>\n",
       "      <td>-0.791989</td>\n",
       "      <td>-1.030029</td>\n",
       "      <td>-0.525657</td>\n",
       "      <td>-0.867655</td>\n",
       "      <td>-1.047571</td>\n",
       "      <td>-0.868957</td>\n",
       "      <td>-0.162519</td>\n",
       "      <td>T</td>\n",
       "    </tr>\n",
       "    <tr>\n",
       "      <th>2</th>\n",
       "      <td>3</td>\n",
       "      <td>-1.587021</td>\n",
       "      <td>-2.200154</td>\n",
       "      <td>1.368234</td>\n",
       "      <td>-1.030029</td>\n",
       "      <td>-0.525657</td>\n",
       "      <td>-0.867655</td>\n",
       "      <td>0.344407</td>\n",
       "      <td>-0.156155</td>\n",
       "      <td>-0.162519</td>\n",
       "      <td>T</td>\n",
       "    </tr>\n",
       "    <tr>\n",
       "      <th>3</th>\n",
       "      <td>4</td>\n",
       "      <td>-2.178174</td>\n",
       "      <td>-0.812191</td>\n",
       "      <td>-0.791989</td>\n",
       "      <td>-1.030029</td>\n",
       "      <td>-0.525657</td>\n",
       "      <td>-0.867655</td>\n",
       "      <td>-1.047571</td>\n",
       "      <td>-0.868957</td>\n",
       "      <td>-0.162519</td>\n",
       "      <td>T</td>\n",
       "    </tr>\n",
       "    <tr>\n",
       "      <th>4</th>\n",
       "      <td>5</td>\n",
       "      <td>-0.510513</td>\n",
       "      <td>-0.461218</td>\n",
       "      <td>-0.251933</td>\n",
       "      <td>-1.030029</td>\n",
       "      <td>-0.525657</td>\n",
       "      <td>-0.867655</td>\n",
       "      <td>-1.047571</td>\n",
       "      <td>-0.868957</td>\n",
       "      <td>0.371564</td>\n",
       "      <td>T</td>\n",
       "    </tr>\n",
       "  </tbody>\n",
       "</table>\n",
       "</div>"
      ],
      "text/plain": [
       "   Unnamed: 0    lcavol   lweight       age      lbph       svi       lcp  \\\n",
       "0           1 -1.645861 -2.016634 -1.872101 -1.030029 -0.525657 -0.867655   \n",
       "1           2 -1.999313 -0.725759 -0.791989 -1.030029 -0.525657 -0.867655   \n",
       "2           3 -1.587021 -2.200154  1.368234 -1.030029 -0.525657 -0.867655   \n",
       "3           4 -2.178174 -0.812191 -0.791989 -1.030029 -0.525657 -0.867655   \n",
       "4           5 -0.510513 -0.461218 -0.251933 -1.030029 -0.525657 -0.867655   \n",
       "\n",
       "    gleason     pgg45      lpsa train  \n",
       "0 -1.047571 -0.868957 -0.430783     T  \n",
       "1 -1.047571 -0.868957 -0.162519     T  \n",
       "2  0.344407 -0.156155 -0.162519     T  \n",
       "3 -1.047571 -0.868957 -0.162519     T  \n",
       "4 -1.047571 -0.868957  0.371564     T  "
      ]
     },
     "execution_count": 3,
     "metadata": {},
     "output_type": "execute_result"
    }
   ],
   "source": [
    "df_features.head()"
   ]
  },
  {
   "cell_type": "code",
   "execution_count": 4,
   "metadata": {},
   "outputs": [
    {
     "data": {
      "text/plain": [
       "(67, 10)"
      ]
     },
     "execution_count": 4,
     "metadata": {},
     "output_type": "execute_result"
    }
   ],
   "source": [
    "#https://stackoverflow.com/questions/35710423/select-a-subset-of-observations-from-a-pandas-dataframe-using-a-list-of-labels\n",
    "di = df_features.set_index('train')\n",
    "#di = di.sort_index()\n",
    "train = di.loc['T']\n",
    "type(train) # of the object\n",
    "train.shape #dimensions"
   ]
  },
  {
   "cell_type": "code",
   "execution_count": 5,
   "metadata": {},
   "outputs": [
    {
     "data": {
      "text/plain": [
       "(30, 10)"
      ]
     },
     "execution_count": 5,
     "metadata": {},
     "output_type": "execute_result"
    }
   ],
   "source": [
    "test = di.loc['F']\n",
    "test.shape #dimension\n",
    "#len(test.columns.values)"
   ]
  },
  {
   "cell_type": "code",
   "execution_count": 6,
   "metadata": {},
   "outputs": [],
   "source": [
    "trainS = train.iloc[:, 1:10]"
   ]
  },
  {
   "cell_type": "code",
   "execution_count": 7,
   "metadata": {},
   "outputs": [
    {
     "data": {
      "text/html": [
       "<div>\n",
       "<style scoped>\n",
       "    .dataframe tbody tr th:only-of-type {\n",
       "        vertical-align: middle;\n",
       "    }\n",
       "\n",
       "    .dataframe tbody tr th {\n",
       "        vertical-align: top;\n",
       "    }\n",
       "\n",
       "    .dataframe thead th {\n",
       "        text-align: right;\n",
       "    }\n",
       "</style>\n",
       "<table border=\"1\" class=\"dataframe\">\n",
       "  <thead>\n",
       "    <tr style=\"text-align: right;\">\n",
       "      <th></th>\n",
       "      <th>lcavol</th>\n",
       "      <th>lweight</th>\n",
       "      <th>age</th>\n",
       "      <th>lbph</th>\n",
       "      <th>svi</th>\n",
       "      <th>lcp</th>\n",
       "      <th>gleason</th>\n",
       "      <th>pgg45</th>\n",
       "      <th>lpsa</th>\n",
       "    </tr>\n",
       "    <tr>\n",
       "      <th>train</th>\n",
       "      <th></th>\n",
       "      <th></th>\n",
       "      <th></th>\n",
       "      <th></th>\n",
       "      <th></th>\n",
       "      <th></th>\n",
       "      <th></th>\n",
       "      <th></th>\n",
       "      <th></th>\n",
       "    </tr>\n",
       "  </thead>\n",
       "  <tbody>\n",
       "    <tr>\n",
       "      <th>T</th>\n",
       "      <td>-1.645861</td>\n",
       "      <td>-2.016634</td>\n",
       "      <td>-1.872101</td>\n",
       "      <td>-1.030029</td>\n",
       "      <td>-0.525657</td>\n",
       "      <td>-0.867655</td>\n",
       "      <td>-1.047571</td>\n",
       "      <td>-0.868957</td>\n",
       "      <td>-0.430783</td>\n",
       "    </tr>\n",
       "    <tr>\n",
       "      <th>T</th>\n",
       "      <td>-1.999313</td>\n",
       "      <td>-0.725759</td>\n",
       "      <td>-0.791989</td>\n",
       "      <td>-1.030029</td>\n",
       "      <td>-0.525657</td>\n",
       "      <td>-0.867655</td>\n",
       "      <td>-1.047571</td>\n",
       "      <td>-0.868957</td>\n",
       "      <td>-0.162519</td>\n",
       "    </tr>\n",
       "    <tr>\n",
       "      <th>T</th>\n",
       "      <td>-1.587021</td>\n",
       "      <td>-2.200154</td>\n",
       "      <td>1.368234</td>\n",
       "      <td>-1.030029</td>\n",
       "      <td>-0.525657</td>\n",
       "      <td>-0.867655</td>\n",
       "      <td>0.344407</td>\n",
       "      <td>-0.156155</td>\n",
       "      <td>-0.162519</td>\n",
       "    </tr>\n",
       "    <tr>\n",
       "      <th>T</th>\n",
       "      <td>-2.178174</td>\n",
       "      <td>-0.812191</td>\n",
       "      <td>-0.791989</td>\n",
       "      <td>-1.030029</td>\n",
       "      <td>-0.525657</td>\n",
       "      <td>-0.867655</td>\n",
       "      <td>-1.047571</td>\n",
       "      <td>-0.868957</td>\n",
       "      <td>-0.162519</td>\n",
       "    </tr>\n",
       "    <tr>\n",
       "      <th>T</th>\n",
       "      <td>-0.510513</td>\n",
       "      <td>-0.461218</td>\n",
       "      <td>-0.251933</td>\n",
       "      <td>-1.030029</td>\n",
       "      <td>-0.525657</td>\n",
       "      <td>-0.867655</td>\n",
       "      <td>-1.047571</td>\n",
       "      <td>-0.868957</td>\n",
       "      <td>0.371564</td>\n",
       "    </tr>\n",
       "  </tbody>\n",
       "</table>\n",
       "</div>"
      ],
      "text/plain": [
       "         lcavol   lweight       age      lbph       svi       lcp   gleason  \\\n",
       "train                                                                         \n",
       "T     -1.645861 -2.016634 -1.872101 -1.030029 -0.525657 -0.867655 -1.047571   \n",
       "T     -1.999313 -0.725759 -0.791989 -1.030029 -0.525657 -0.867655 -1.047571   \n",
       "T     -1.587021 -2.200154  1.368234 -1.030029 -0.525657 -0.867655  0.344407   \n",
       "T     -2.178174 -0.812191 -0.791989 -1.030029 -0.525657 -0.867655 -1.047571   \n",
       "T     -0.510513 -0.461218 -0.251933 -1.030029 -0.525657 -0.867655 -1.047571   \n",
       "\n",
       "          pgg45      lpsa  \n",
       "train                      \n",
       "T     -0.868957 -0.430783  \n",
       "T     -0.868957 -0.162519  \n",
       "T     -0.156155 -0.162519  \n",
       "T     -0.868957 -0.162519  \n",
       "T     -0.868957  0.371564  "
      ]
     },
     "execution_count": 7,
     "metadata": {},
     "output_type": "execute_result"
    }
   ],
   "source": [
    "trainS.head()"
   ]
  },
  {
   "cell_type": "code",
   "execution_count": 9,
   "metadata": {},
   "outputs": [],
   "source": [
    "X = trainS.iloc[:,0:8] # first eight predictors [0, 8)\n",
    "y = trainS.iloc[:,[8]]"
   ]
  },
  {
   "cell_type": "code",
   "execution_count": 13,
   "metadata": {},
   "outputs": [
    {
     "data": {
      "text/plain": [
       "0.694"
      ]
     },
     "execution_count": 13,
     "metadata": {},
     "output_type": "execute_result"
    }
   ],
   "source": [
    "from sklearn.linear_model import LinearRegression\n",
    "import numpy as np\n",
    "reg = LinearRegression().fit(X, y)\n",
    "np.round(reg.score(X, y), decimals=3)\n"
   ]
  },
  {
   "cell_type": "code",
   "execution_count": 14,
   "metadata": {},
   "outputs": [
    {
     "data": {
      "text/plain": [
       "array([[ 0.676,  0.262, -0.141,  0.209,  0.304, -0.287, -0.021,  0.266]])"
      ]
     },
     "execution_count": 14,
     "metadata": {},
     "output_type": "execute_result"
    }
   ],
   "source": [
    "np.round(reg.coef_, decimals=3)"
   ]
  },
  {
   "cell_type": "code",
   "execution_count": 11,
   "metadata": {},
   "outputs": [],
   "source": [
    "#0.680, 0.262, -0.141, 0.210, 0.304, -0.287, -0.21, 0.266"
   ]
  },
  {
   "cell_type": "code",
   "execution_count": 15,
   "metadata": {},
   "outputs": [
    {
     "data": {
      "text/plain": [
       "array([2.465])"
      ]
     },
     "execution_count": 15,
     "metadata": {},
     "output_type": "execute_result"
    }
   ],
   "source": [
    "np.round(reg.intercept_, decimals=3)"
   ]
  },
  {
   "cell_type": "code",
   "execution_count": 16,
   "metadata": {},
   "outputs": [],
   "source": [
    "testS = test.iloc[:, 1:10]\n",
    "Xt = testS.iloc[:, 0:8]\n",
    "yt = testS.iloc[:,[8]]\n",
    "yhat = reg.predict(Xt)"
   ]
  },
  {
   "cell_type": "code",
   "execution_count": 17,
   "metadata": {},
   "outputs": [],
   "source": [
    "def mse(x):\n",
    "    errSq = x.apply(lambda x: x**2)\n",
    "    return errSq[\"lpsa\"].mean()\n"
   ]
  },
  {
   "cell_type": "code",
   "execution_count": 18,
   "metadata": {},
   "outputs": [
    {
     "data": {
      "text/plain": [
       "0.521"
      ]
     },
     "execution_count": 18,
     "metadata": {},
     "output_type": "execute_result"
    }
   ],
   "source": [
    "#errSq = err.apply(lambda x: x**2)\n",
    "#errSq[\"lpsa\"].mean()\n",
    "err = yt - yhat\n",
    "np.round(mse(err), decimals=3)"
   ]
  },
  {
   "cell_type": "markdown",
   "metadata": {},
   "source": [
    "#ridge regression\n",
    "#numpy arange\n",
    "    "
   ]
  },
  {
   "cell_type": "code",
   "execution_count": 19,
   "metadata": {},
   "outputs": [],
   "source": [
    "#ridge regression \n",
    "#numpy arange for grid search\n",
    "import numpy as np\n",
    "z  = np.linspace(-2, 4, num=101)"
   ]
  },
  {
   "cell_type": "code",
   "execution_count": 20,
   "metadata": {},
   "outputs": [],
   "source": [
    "b = 10*np.ones(len(z))\n",
    "lm = np.power(b, z)"
   ]
  },
  {
   "cell_type": "code",
   "execution_count": 22,
   "metadata": {},
   "outputs": [
    {
     "data": {
      "text/plain": [
       "45.709"
      ]
     },
     "execution_count": 22,
     "metadata": {},
     "output_type": "execute_result"
    }
   ],
   "source": [
    "#10fold cv to pick the best lambda\n",
    "from sklearn.linear_model import RidgeCV\n",
    "clf = RidgeCV(alphas = lm, cv=10) #10-fold cross validation\n",
    "clf.fit(X, y)\n",
    "lmd = clf.alpha_ # 45.71\n",
    "np.round(lmd, decimals=3)"
   ]
  },
  {
   "cell_type": "code",
   "execution_count": 23,
   "metadata": {},
   "outputs": [
    {
     "data": {
      "text/plain": [
       "Ridge(alpha=45.708818961487474)"
      ]
     },
     "execution_count": 23,
     "metadata": {},
     "output_type": "execute_result"
    }
   ],
   "source": [
    "#ridge regression corresponding to best lamda\n",
    "from sklearn.linear_model import Ridge\n",
    "rdm = Ridge(alpha = lmd)\n",
    "rdm.fit(X, y)"
   ]
  },
  {
   "cell_type": "code",
   "execution_count": 24,
   "metadata": {},
   "outputs": [
    {
     "data": {
      "text/plain": [
       "array([[ 0.338,  0.213, -0.016,  0.136,  0.196,  0.051,  0.048,  0.113]])"
      ]
     },
     "execution_count": 24,
     "metadata": {},
     "output_type": "execute_result"
    }
   ],
   "source": [
    "np.round(rdm.coef_, decimals=3) #ols: 0.680, 0.262, -0.141, 0.210, 0.304, -0.287, -0.21, 0.266"
   ]
  },
  {
   "cell_type": "code",
   "execution_count": 25,
   "metadata": {},
   "outputs": [],
   "source": [
    "#prediction using the fitted model\n",
    "yrt = rdm.predict(Xt) #predict using the ridge model on test data"
   ]
  },
  {
   "cell_type": "code",
   "execution_count": 26,
   "metadata": {},
   "outputs": [
    {
     "data": {
      "text/plain": [
       "0.508"
      ]
     },
     "execution_count": 26,
     "metadata": {},
     "output_type": "execute_result"
    }
   ],
   "source": [
    "np.round(mse(yrt-yt), decimals=3) #mse for ridge"
   ]
  },
  {
   "cell_type": "code",
   "execution_count": 27,
   "metadata": {},
   "outputs": [
    {
     "data": {
      "text/plain": [
       "array([2.46])"
      ]
     },
     "execution_count": 27,
     "metadata": {},
     "output_type": "execute_result"
    }
   ],
   "source": [
    "np.round(rdm.intercept_, decimals=3)"
   ]
  },
  {
   "cell_type": "code",
   "execution_count": null,
   "metadata": {},
   "outputs": [],
   "source": []
  }
 ],
 "metadata": {
  "kernelspec": {
   "display_name": "Python 3",
   "language": "python",
   "name": "python3"
  },
  "language_info": {
   "codemirror_mode": {
    "name": "ipython",
    "version": 3
   },
   "file_extension": ".py",
   "mimetype": "text/x-python",
   "name": "python",
   "nbconvert_exporter": "python",
   "pygments_lexer": "ipython3",
   "version": "3.8.3"
  }
 },
 "nbformat": 4,
 "nbformat_minor": 4
}
