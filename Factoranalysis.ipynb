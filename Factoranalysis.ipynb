{
 "cells": [
  {
   "cell_type": "code",
   "execution_count": 2,
   "metadata": {},
   "outputs": [],
   "source": [
    "#install a package in current environment\n",
    "#!conda install -c conda-forge factor_analyzer --y\n",
    "#https://factor-analyzer.readthedocs.io/en/latest/index.html\n",
    "import numpy as np\n",
    "import pandas as pd\n",
    "from factor_analyzer import FactorAnalyzer\n",
    "path = 'F:/fall-21/ime692/l4/decathlon.csv'"
   ]
  },
  {
   "cell_type": "code",
   "execution_count": 3,
   "metadata": {},
   "outputs": [
    {
     "data": {
      "text/plain": [
       "['100m', 'LJ', 'SP', 'HJ', '400m', '100mH', 'DS', 'PV', 'JV', '1500m']"
      ]
     },
     "execution_count": 3,
     "metadata": {},
     "output_type": "execute_result"
    }
   ],
   "source": [
    "#280 scores from 1960 to 2004 for Olympic decathlon\n",
    "\n",
    "df_features = pd.read_csv(path)\n",
    "hd = list(df_features.columns.values)\n",
    "hd"
   ]
  },
  {
   "cell_type": "code",
   "execution_count": 5,
   "metadata": {},
   "outputs": [
    {
     "data": {
      "text/plain": [
       "FactorAnalyzer(is_corr_matrix=True, rotation='varimax', rotation_kwargs={})"
      ]
     },
     "execution_count": 5,
     "metadata": {},
     "output_type": "execute_result"
    }
   ],
   "source": [
    "fa = FactorAnalyzer(rotation='varimax', n_factors = 3, is_corr_matrix=True)\n",
    "fa.fit(df_features)"
   ]
  },
  {
   "cell_type": "code",
   "execution_count": 6,
   "metadata": {},
   "outputs": [
    {
     "data": {
      "text/html": [
       "<div>\n",
       "<style scoped>\n",
       "    .dataframe tbody tr th:only-of-type {\n",
       "        vertical-align: middle;\n",
       "    }\n",
       "\n",
       "    .dataframe tbody tr th {\n",
       "        vertical-align: top;\n",
       "    }\n",
       "\n",
       "    .dataframe thead th {\n",
       "        text-align: right;\n",
       "    }\n",
       "</style>\n",
       "<table border=\"1\" class=\"dataframe\">\n",
       "  <thead>\n",
       "    <tr style=\"text-align: right;\">\n",
       "      <th></th>\n",
       "      <th>factor1</th>\n",
       "      <th>factor2</th>\n",
       "      <th>factor3</th>\n",
       "    </tr>\n",
       "  </thead>\n",
       "  <tbody>\n",
       "    <tr>\n",
       "      <th>100m</th>\n",
       "      <td>0.223</td>\n",
       "      <td>0.978</td>\n",
       "      <td>-0.023</td>\n",
       "    </tr>\n",
       "    <tr>\n",
       "      <th>LJ</th>\n",
       "      <td>0.417</td>\n",
       "      <td>0.576</td>\n",
       "      <td>0.297</td>\n",
       "    </tr>\n",
       "    <tr>\n",
       "      <th>SP</th>\n",
       "      <td>0.891</td>\n",
       "      <td>0.264</td>\n",
       "      <td>-0.019</td>\n",
       "    </tr>\n",
       "    <tr>\n",
       "      <th>HJ</th>\n",
       "      <td>0.438</td>\n",
       "      <td>0.276</td>\n",
       "      <td>0.480</td>\n",
       "    </tr>\n",
       "    <tr>\n",
       "      <th>400m</th>\n",
       "      <td>0.112</td>\n",
       "      <td>0.498</td>\n",
       "      <td>0.502</td>\n",
       "    </tr>\n",
       "    <tr>\n",
       "      <th>100mH</th>\n",
       "      <td>0.302</td>\n",
       "      <td>0.271</td>\n",
       "      <td>0.154</td>\n",
       "    </tr>\n",
       "    <tr>\n",
       "      <th>DS</th>\n",
       "      <td>0.800</td>\n",
       "      <td>0.163</td>\n",
       "      <td>0.001</td>\n",
       "    </tr>\n",
       "    <tr>\n",
       "      <th>PV</th>\n",
       "      <td>0.475</td>\n",
       "      <td>0.322</td>\n",
       "      <td>0.497</td>\n",
       "    </tr>\n",
       "    <tr>\n",
       "      <th>JV</th>\n",
       "      <td>0.479</td>\n",
       "      <td>0.090</td>\n",
       "      <td>0.143</td>\n",
       "    </tr>\n",
       "    <tr>\n",
       "      <th>1500m</th>\n",
       "      <td>-0.029</td>\n",
       "      <td>-0.014</td>\n",
       "      <td>0.600</td>\n",
       "    </tr>\n",
       "  </tbody>\n",
       "</table>\n",
       "</div>"
      ],
      "text/plain": [
       "       factor1  factor2  factor3\n",
       "100m     0.223    0.978   -0.023\n",
       "LJ       0.417    0.576    0.297\n",
       "SP       0.891    0.264   -0.019\n",
       "HJ       0.438    0.276    0.480\n",
       "400m     0.112    0.498    0.502\n",
       "100mH    0.302    0.271    0.154\n",
       "DS       0.800    0.163    0.001\n",
       "PV       0.475    0.322    0.497\n",
       "JV       0.479    0.090    0.143\n",
       "1500m   -0.029   -0.014    0.600"
      ]
     },
     "execution_count": 6,
     "metadata": {},
     "output_type": "execute_result"
    }
   ],
   "source": [
    "loadings = np.round(fa.loadings_, decimals=3)\n",
    "pd.DataFrame(loadings, index = hd, columns = ('factor1', 'factor2', 'factor3'))\n",
    "\n",
    "#Factor1 - explosive arm strength\n",
    "#Factor2 - explosive leg strength\n",
    "#factor3 - running endurance"
   ]
  },
  {
   "cell_type": "code",
   "execution_count": 7,
   "metadata": {},
   "outputs": [
    {
     "data": {
      "text/plain": [
       "(array([2.40842836, 1.89474594, 1.22092451]),\n",
       " array([0.24084284, 0.18947459, 0.12209245]),\n",
       " array([0.24084284, 0.43031743, 0.55240988]))"
      ]
     },
     "execution_count": 7,
     "metadata": {},
     "output_type": "execute_result"
    }
   ],
   "source": [
    "fa.get_factor_variance()"
   ]
  },
  {
   "cell_type": "code",
   "execution_count": 8,
   "metadata": {},
   "outputs": [
    {
     "data": {
      "text/plain": [
       "array([1.00770588, 0.59371499, 0.86328236, 0.49780071, 0.51230271,\n",
       "       0.18816799, 0.66670305, 0.5757707 , 0.25817363, 0.36047678])"
      ]
     },
     "execution_count": 8,
     "metadata": {},
     "output_type": "execute_result"
    }
   ],
   "source": [
    "fa.get_communalities()"
   ]
  },
  {
   "cell_type": "code",
   "execution_count": null,
   "metadata": {},
   "outputs": [],
   "source": [
    "#-----SIMULATION EXAMPLE-----"
   ]
  },
  {
   "cell_type": "code",
   "execution_count": 1,
   "metadata": {},
   "outputs": [],
   "source": [
    "import numpy as np"
   ]
  },
  {
   "cell_type": "code",
   "execution_count": 2,
   "metadata": {},
   "outputs": [],
   "source": [
    "Z1 = np.random.default_rng().normal(size = 100)\n",
    "Z2 = np.random.default_rng().normal(size = 100)\n",
    "Z3 = np.random.default_rng().normal(size = 100)"
   ]
  },
  {
   "cell_type": "code",
   "execution_count": 3,
   "metadata": {},
   "outputs": [],
   "source": [
    "X1 = Z1\n",
    "X2 = X1 + Z2/100\n",
    "X3 = 10*Z3"
   ]
  },
  {
   "cell_type": "code",
   "execution_count": 9,
   "metadata": {},
   "outputs": [],
   "source": [
    "#PCA\n",
    "#prepare the dataset\n",
    "Y = np.column_stack((X1, X2)) #Y.shape\n",
    "Z = np.column_stack((Y, X3))"
   ]
  },
  {
   "cell_type": "code",
   "execution_count": 10,
   "metadata": {},
   "outputs": [
    {
     "data": {
      "text/plain": [
       "PCA(n_components=2)"
      ]
     },
     "execution_count": 10,
     "metadata": {},
     "output_type": "execute_result"
    }
   ],
   "source": [
    "from sklearn.decomposition import PCA\n",
    "pca = PCA(n_components=2)\n",
    "pca.fit(Z)"
   ]
  },
  {
   "cell_type": "code",
   "execution_count": 11,
   "metadata": {},
   "outputs": [
    {
     "name": "stdout",
     "output_type": "stream",
     "text": [
      "[ 0. -1. -0.]\n"
     ]
    }
   ],
   "source": [
    "#First PCA\n",
    "print(np.round(pca.components_[0], 2))"
   ]
  },
  {
   "cell_type": "code",
   "execution_count": 12,
   "metadata": {},
   "outputs": [],
   "source": [
    "#Now factor analysis\n",
    "#from sklearn.decomposition import FactorAnalysis --probabilistic interpretation..\n",
    "#fa = FactorAnalysis(n_components=2, random_state=0, rotation='varimax')\n",
    "#fa.fit(Z)\n",
    "#np.round(fa.components_[0], 2)"
   ]
  },
  {
   "cell_type": "code",
   "execution_count": 13,
   "metadata": {},
   "outputs": [
    {
     "data": {
      "text/plain": [
       "FactorAnalyzer(n_factors=2, rotation='varimax', rotation_kwargs={})"
      ]
     },
     "execution_count": 13,
     "metadata": {},
     "output_type": "execute_result"
    }
   ],
   "source": [
    "from factor_analyzer import FactorAnalyzer\n",
    "fa = FactorAnalyzer(rotation='varimax', n_factors = 2)\n",
    "fa.fit(Z)"
   ]
  },
  {
   "cell_type": "code",
   "execution_count": 14,
   "metadata": {},
   "outputs": [
    {
     "data": {
      "text/plain": [
       "array([[-1.  , -0.  ],\n",
       "       [ 0.01,  0.09],\n",
       "       [ 1.  , -0.  ]])"
      ]
     },
     "execution_count": 14,
     "metadata": {},
     "output_type": "execute_result"
    }
   ],
   "source": [
    "np.round(fa.loadings_, 2)"
   ]
  },
  {
   "cell_type": "code",
   "execution_count": null,
   "metadata": {},
   "outputs": [],
   "source": []
  }
 ],
 "metadata": {
  "kernelspec": {
   "display_name": "Python 3",
   "language": "python",
   "name": "python3"
  },
  "language_info": {
   "codemirror_mode": {
    "name": "ipython",
    "version": 3
   },
   "file_extension": ".py",
   "mimetype": "text/x-python",
   "name": "python",
   "nbconvert_exporter": "python",
   "pygments_lexer": "ipython3",
   "version": "3.8.3"
  }
 },
 "nbformat": 4,
 "nbformat_minor": 4
}
