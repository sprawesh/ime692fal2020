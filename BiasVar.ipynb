{
 "cells": [
  {
   "cell_type": "code",
   "execution_count": 1,
   "metadata": {},
   "outputs": [],
   "source": [
    "#Illustration for bias-variance decomposition\n",
    "#The model generation process Y = f(X) = exp(-6x^2); x is in R\n",
    "#We generate 100 training samples of X, xi ~ U[-1,1]; i = 1, ...., 100\n",
    "#Prediction model is 1-nearest neighbor\n",
    "#New observation point is x0 = 0, where y0 = 1. \n",
    "#Denote training data by T, and generate 100 different training samples each of size N = 100.\n",
    "#compute Var_T(y0_hat) = E_T(y0_hat - E_T(y0_hat))^2\n",
    "#compute bias(y0_hat) = E_T(y0_hat) - f(x_0)\n",
    "#Since there is no random error (deterministic prediction) expected prediction error (EPE) = mean sq. error = E_T(f(x_0) - y0_hat)^2 = Var_T(y0_hat) + bias(y0_hat)^2"
   ]
  },
  {
   "cell_type": "code",
   "execution_count": 214,
   "metadata": {},
   "outputs": [],
   "source": [
    "import math\n",
    "import numpy as np\n",
    "from sklearn.neighbors import KNeighborsRegressor\n",
    "import pandas as pd\n",
    "\n",
    "#return a 2-d array of the form (x, y)\n",
    "\n",
    "def data_generation(xc):\n",
    "    x2 = np.power(xc, 2)\n",
    "    x2 = -6*x2\n",
    "    y = np.exp(x2)   \n",
    "    \n",
    "    z = np.column_stack((xc, y))    \n",
    "    return z"
   ]
  },
  {
   "cell_type": "code",
   "execution_count": 215,
   "metadata": {},
   "outputs": [],
   "source": [
    "#repeat the process 100 times\n",
    "df = pd.DataFrame(columns = ['x0', 'y0', 'y0_hat'])\n",
    "\n",
    "for i in np.arange(100):\n",
    "    #generation of input variable\n",
    "    s = np.random.uniform(-1, 1, 100)\n",
    "    d0 = data_generation(s)    \n",
    "    #run the prediction model using d0\n",
    "    X = d0[:100,0].reshape(-1, 1)\n",
    "    y =  d0[:100,1]\n",
    "\n",
    "    neigh = KNeighborsRegressor(n_neighbors = 1)\n",
    "    neigh.fit(X, y)\n",
    "    y0_hat = neigh.predict([[0]])\n",
    "    #store the data (x0, y0, y0_hat)\n",
    "    df = df.append({'x0' : 0, 'y0' : 1, 'y0_hat' : y0_hat[0]}, ignore_index = True)"
   ]
  },
  {
   "cell_type": "code",
   "execution_count": 216,
   "metadata": {},
   "outputs": [],
   "source": [
    "df.to_csv(\"bvar.csv\")"
   ]
  }
 ],
 "metadata": {
  "kernelspec": {
   "display_name": "Python 3",
   "language": "python",
   "name": "python3"
  },
  "language_info": {
   "codemirror_mode": {
    "name": "ipython",
    "version": 3
   },
   "file_extension": ".py",
   "mimetype": "text/x-python",
   "name": "python",
   "nbconvert_exporter": "python",
   "pygments_lexer": "ipython3",
   "version": "3.8.3"
  }
 },
 "nbformat": 4,
 "nbformat_minor": 4
}
